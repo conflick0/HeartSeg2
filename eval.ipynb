{
 "cells": [
  {
   "cell_type": "code",
   "execution_count": 1,
   "metadata": {
    "collapsed": true
   },
   "outputs": [],
   "source": [
    "import pandas as pd\n",
    "import os"
   ]
  },
  {
   "cell_type": "code",
   "execution_count": 2,
   "outputs": [],
   "source": [
    "data_dir = 'data_csv'\n",
    "eval_dir = 'data_csv/eval'\n",
    "data_names = ['crop2', 'adj_contrast', 'adj_contrast_corcta']\n",
    "csv_file_names = ['tr', 'tt', 'corcta', 'corcta_adj_contract']"
   ],
   "metadata": {
    "collapsed": false,
    "pycharm": {
     "name": "#%%\n"
    }
   }
  },
  {
   "cell_type": "code",
   "execution_count": 3,
   "outputs": [],
   "source": [
    "data_dfs = {}\n",
    "for data_name in data_names:\n",
    "    data_dfs[data_name] = {}\n",
    "    for csv_file_name in csv_file_names[:2]:\n",
    "        csv_file_path = os.path.join(\n",
    "            data_dir,\n",
    "            data_name,\n",
    "            f'{csv_file_name}.csv'\n",
    "        )\n",
    "        data_dfs[data_name][csv_file_name] = pd.read_csv(csv_file_path)"
   ],
   "metadata": {
    "collapsed": false,
    "pycharm": {
     "name": "#%%\n"
    }
   }
  },
  {
   "cell_type": "code",
   "execution_count": 4,
   "outputs": [],
   "source": [
    "eval_dfs = {}\n",
    "# read csv files using panda\n",
    "for data_name in data_names:\n",
    "    eval_dfs[data_name] = {}\n",
    "    for csv_file_name in csv_file_names:\n",
    "        csv_file_path = os.path.join(\n",
    "            eval_dir,\n",
    "            data_name,\n",
    "            f'{csv_file_name}.csv'\n",
    "        )\n",
    "        eval_dfs[data_name][csv_file_name] = pd.read_csv(csv_file_path)"
   ],
   "metadata": {
    "collapsed": false,
    "pycharm": {
     "name": "#%%\n"
    }
   }
  },
  {
   "cell_type": "code",
   "execution_count": 5,
   "outputs": [],
   "source": [
    "counts = {}\n",
    "for data_name in data_names:\n",
    "    counts[data_name] = {}\n",
    "    for csv_file_name in csv_file_names[:2]:\n",
    "        counts[data_name][csv_file_name] = len(data_dfs[data_name][csv_file_name]['ImageId'])"
   ],
   "metadata": {
    "collapsed": false,
    "pycharm": {
     "name": "#%%\n"
    }
   }
  },
  {
   "cell_type": "code",
   "execution_count": 6,
   "outputs": [
    {
     "data": {
      "text/plain": "         c2_tr  c2_tt  ac_tr  ac_tt  acc_tr  acc_tt\nno. img   2470    358   2470    358    2697     358",
      "text/html": "<div>\n<style scoped>\n    .dataframe tbody tr th:only-of-type {\n        vertical-align: middle;\n    }\n\n    .dataframe tbody tr th {\n        vertical-align: top;\n    }\n\n    .dataframe thead th {\n        text-align: right;\n    }\n</style>\n<table border=\"1\" class=\"dataframe\">\n  <thead>\n    <tr style=\"text-align: right;\">\n      <th></th>\n      <th>c2_tr</th>\n      <th>c2_tt</th>\n      <th>ac_tr</th>\n      <th>ac_tt</th>\n      <th>acc_tr</th>\n      <th>acc_tt</th>\n    </tr>\n  </thead>\n  <tbody>\n    <tr>\n      <th>no. img</th>\n      <td>2470</td>\n      <td>358</td>\n      <td>2470</td>\n      <td>358</td>\n      <td>2697</td>\n      <td>358</td>\n    </tr>\n  </tbody>\n</table>\n</div>"
     },
     "execution_count": 6,
     "metadata": {},
     "output_type": "execute_result"
    }
   ],
   "source": [
    "img_df = pd.DataFrame(\n",
    "    [\n",
    "        counts['crop2']['tr'],\n",
    "        counts['crop2']['tt'],\n",
    "        counts['adj_contrast']['tr'],\n",
    "        counts['adj_contrast']['tt'],\n",
    "        counts['adj_contrast_corcta']['tr'],\n",
    "        counts['adj_contrast_corcta']['tt']\n",
    "    ],\n",
    "    index=[\n",
    "        'c2_tr',\n",
    "        'c2_tt',\n",
    "        'ac_tr',\n",
    "        'ac_tt',\n",
    "        'acc_tr',\n",
    "        'acc_tt',\n",
    "    ],\n",
    "    columns=[\n",
    "        'no. img'\n",
    "    ]\n",
    ").T\n",
    "img_df"
   ],
   "metadata": {
    "collapsed": false,
    "pycharm": {
     "name": "#%%\n"
    }
   }
  },
  {
   "cell_type": "code",
   "execution_count": 7,
   "outputs": [
    {
     "data": {
      "text/plain": "         c2_tr  c2_tt  ac_tr  ac_tt  acc_tr  acc_tt\nno. pid     62      7     62      7      63       7",
      "text/html": "<div>\n<style scoped>\n    .dataframe tbody tr th:only-of-type {\n        vertical-align: middle;\n    }\n\n    .dataframe tbody tr th {\n        vertical-align: top;\n    }\n\n    .dataframe thead th {\n        text-align: right;\n    }\n</style>\n<table border=\"1\" class=\"dataframe\">\n  <thead>\n    <tr style=\"text-align: right;\">\n      <th></th>\n      <th>c2_tr</th>\n      <th>c2_tt</th>\n      <th>ac_tr</th>\n      <th>ac_tt</th>\n      <th>acc_tr</th>\n      <th>acc_tt</th>\n    </tr>\n  </thead>\n  <tbody>\n    <tr>\n      <th>no. pid</th>\n      <td>62</td>\n      <td>7</td>\n      <td>62</td>\n      <td>7</td>\n      <td>63</td>\n      <td>7</td>\n    </tr>\n  </tbody>\n</table>\n</div>"
     },
     "execution_count": 7,
     "metadata": {},
     "output_type": "execute_result"
    }
   ],
   "source": [
    "pid_df = pd.DataFrame(\n",
    "    [\n",
    "        eval_dfs['crop2']['tr']['pid'].count(),\n",
    "        eval_dfs['crop2']['tt']['pid'].count(),\n",
    "        eval_dfs['adj_contrast']['tr']['pid'].count(),\n",
    "        eval_dfs['adj_contrast']['tt']['pid'].count(),\n",
    "        eval_dfs['adj_contrast_corcta']['tr']['pid'].count(),\n",
    "        eval_dfs['adj_contrast_corcta']['tt']['pid'].count(),\n",
    "    ]\n",
    "    ,index=[\n",
    "        'c2_tr',\n",
    "        'c2_tt',\n",
    "        'ac_tr',\n",
    "        'ac_tt',\n",
    "        'acc_tr',\n",
    "        'acc_tt',\n",
    "    ],\n",
    "    columns=[\n",
    "        'no. pid'\n",
    "    ]\n",
    ").T\n",
    "pid_df"
   ],
   "metadata": {
    "collapsed": false,
    "pycharm": {
     "name": "#%%\n"
    }
   }
  },
  {
   "cell_type": "code",
   "execution_count": 8,
   "outputs": [
    {
     "name": "stdout",
     "output_type": "stream",
     "text": [
      "c2: 裁切, ac: 調整對比度, acc: 調整對比度+醫院資料\n",
      "tr: 訓練資料集, tt: 測試資料集\n"
     ]
    },
    {
     "name": "stderr",
     "output_type": "stream",
     "text": [
      "D:\\opt\\miniconda3\\envs\\HeartSeg2\\lib\\site-packages\\ipykernel_launcher.py:5: FutureWarning: Dropping of nuisance columns in DataFrame reductions (with 'numeric_only=None') is deprecated; in a future version this will raise TypeError.  Select only valid columns before calling the reduction.\n",
      "  \"\"\"\n",
      "D:\\opt\\miniconda3\\envs\\HeartSeg2\\lib\\site-packages\\ipykernel_launcher.py:6: FutureWarning: Dropping of nuisance columns in DataFrame reductions (with 'numeric_only=None') is deprecated; in a future version this will raise TypeError.  Select only valid columns before calling the reduction.\n",
      "  \n",
      "D:\\opt\\miniconda3\\envs\\HeartSeg2\\lib\\site-packages\\ipykernel_launcher.py:7: FutureWarning: Dropping of nuisance columns in DataFrame reductions (with 'numeric_only=None') is deprecated; in a future version this will raise TypeError.  Select only valid columns before calling the reduction.\n",
      "  import sys\n",
      "D:\\opt\\miniconda3\\envs\\HeartSeg2\\lib\\site-packages\\ipykernel_launcher.py:8: FutureWarning: Dropping of nuisance columns in DataFrame reductions (with 'numeric_only=None') is deprecated; in a future version this will raise TypeError.  Select only valid columns before calling the reduction.\n",
      "  \n",
      "D:\\opt\\miniconda3\\envs\\HeartSeg2\\lib\\site-packages\\ipykernel_launcher.py:9: FutureWarning: Dropping of nuisance columns in DataFrame reductions (with 'numeric_only=None') is deprecated; in a future version this will raise TypeError.  Select only valid columns before calling the reduction.\n",
      "  if __name__ == '__main__':\n",
      "D:\\opt\\miniconda3\\envs\\HeartSeg2\\lib\\site-packages\\ipykernel_launcher.py:10: FutureWarning: Dropping of nuisance columns in DataFrame reductions (with 'numeric_only=None') is deprecated; in a future version this will raise TypeError.  Select only valid columns before calling the reduction.\n",
      "  # Remove the CWD from sys.path while we load stuff.\n"
     ]
    },
    {
     "data": {
      "text/plain": "              dc       hd95  no. pid  no. img\nc2_tr   0.937147   4.595943     62.0   2470.0\nc2_tt   0.830196  14.493962      7.0    358.0\nac_tr   0.944951   4.442906     62.0   2470.0\nac_tt   0.840820  12.433626      7.0    358.0\nacc_tr  0.943632   4.279438     63.0   2697.0\nacc_tt  0.831059  12.305764      7.0    358.0",
      "text/html": "<div>\n<style scoped>\n    .dataframe tbody tr th:only-of-type {\n        vertical-align: middle;\n    }\n\n    .dataframe tbody tr th {\n        vertical-align: top;\n    }\n\n    .dataframe thead th {\n        text-align: right;\n    }\n</style>\n<table border=\"1\" class=\"dataframe\">\n  <thead>\n    <tr style=\"text-align: right;\">\n      <th></th>\n      <th>dc</th>\n      <th>hd95</th>\n      <th>no. pid</th>\n      <th>no. img</th>\n    </tr>\n  </thead>\n  <tbody>\n    <tr>\n      <th>c2_tr</th>\n      <td>0.937147</td>\n      <td>4.595943</td>\n      <td>62.0</td>\n      <td>2470.0</td>\n    </tr>\n    <tr>\n      <th>c2_tt</th>\n      <td>0.830196</td>\n      <td>14.493962</td>\n      <td>7.0</td>\n      <td>358.0</td>\n    </tr>\n    <tr>\n      <th>ac_tr</th>\n      <td>0.944951</td>\n      <td>4.442906</td>\n      <td>62.0</td>\n      <td>2470.0</td>\n    </tr>\n    <tr>\n      <th>ac_tt</th>\n      <td>0.840820</td>\n      <td>12.433626</td>\n      <td>7.0</td>\n      <td>358.0</td>\n    </tr>\n    <tr>\n      <th>acc_tr</th>\n      <td>0.943632</td>\n      <td>4.279438</td>\n      <td>63.0</td>\n      <td>2697.0</td>\n    </tr>\n    <tr>\n      <th>acc_tt</th>\n      <td>0.831059</td>\n      <td>12.305764</td>\n      <td>7.0</td>\n      <td>358.0</td>\n    </tr>\n  </tbody>\n</table>\n</div>"
     },
     "execution_count": 8,
     "metadata": {},
     "output_type": "execute_result"
    }
   ],
   "source": [
    "print('c2: 裁切, ac: 調整對比度, acc: 調整對比度+醫院資料')\n",
    "print('tr: 訓練資料集, tt: 測試資料集')\n",
    "tr_tt_df = pd.DataFrame(\n",
    "    [\n",
    "        eval_dfs['crop2']['tr'].mean(),\n",
    "        eval_dfs['crop2']['tt'].mean(),\n",
    "        eval_dfs['adj_contrast']['tr'].mean(),\n",
    "        eval_dfs['adj_contrast']['tt'].mean(),\n",
    "        eval_dfs['adj_contrast_corcta']['tr'].mean(),\n",
    "        eval_dfs['adj_contrast_corcta']['tt'].mean(),\n",
    "    ]\n",
    "    ,index=[\n",
    "        'c2_tr',\n",
    "        'c2_tt',\n",
    "        'ac_tr',\n",
    "        'ac_tt',\n",
    "        'acc_tr',\n",
    "        'acc_tt',\n",
    "    ]\n",
    ").T\n",
    "pd.concat([tr_tt_df, pid_df,  img_df]).T"
   ],
   "metadata": {
    "collapsed": false,
    "pycharm": {
     "name": "#%%\n"
    }
   }
  },
  {
   "cell_type": "code",
   "execution_count": 9,
   "outputs": [
    {
     "name": "stdout",
     "output_type": "stream",
     "text": [
      "c2: 裁切, ac: 調整對比度, acc: 調整對比度+醫院資料\n",
      "c: 醫院資料, ca: 醫院資料+調整對比度\n"
     ]
    },
    {
     "name": "stderr",
     "output_type": "stream",
     "text": [
      "D:\\opt\\miniconda3\\envs\\HeartSeg2\\lib\\site-packages\\ipykernel_launcher.py:5: FutureWarning: Dropping of nuisance columns in DataFrame reductions (with 'numeric_only=None') is deprecated; in a future version this will raise TypeError.  Select only valid columns before calling the reduction.\n",
      "  \"\"\"\n",
      "D:\\opt\\miniconda3\\envs\\HeartSeg2\\lib\\site-packages\\ipykernel_launcher.py:6: FutureWarning: Dropping of nuisance columns in DataFrame reductions (with 'numeric_only=None') is deprecated; in a future version this will raise TypeError.  Select only valid columns before calling the reduction.\n",
      "  \n",
      "D:\\opt\\miniconda3\\envs\\HeartSeg2\\lib\\site-packages\\ipykernel_launcher.py:7: FutureWarning: Dropping of nuisance columns in DataFrame reductions (with 'numeric_only=None') is deprecated; in a future version this will raise TypeError.  Select only valid columns before calling the reduction.\n",
      "  import sys\n",
      "D:\\opt\\miniconda3\\envs\\HeartSeg2\\lib\\site-packages\\ipykernel_launcher.py:8: FutureWarning: Dropping of nuisance columns in DataFrame reductions (with 'numeric_only=None') is deprecated; in a future version this will raise TypeError.  Select only valid columns before calling the reduction.\n",
      "  \n",
      "D:\\opt\\miniconda3\\envs\\HeartSeg2\\lib\\site-packages\\ipykernel_launcher.py:9: FutureWarning: Dropping of nuisance columns in DataFrame reductions (with 'numeric_only=None') is deprecated; in a future version this will raise TypeError.  Select only valid columns before calling the reduction.\n",
      "  if __name__ == '__main__':\n",
      "D:\\opt\\miniconda3\\envs\\HeartSeg2\\lib\\site-packages\\ipykernel_launcher.py:10: FutureWarning: Dropping of nuisance columns in DataFrame reductions (with 'numeric_only=None') is deprecated; in a future version this will raise TypeError.  Select only valid columns before calling the reduction.\n",
      "  # Remove the CWD from sys.path while we load stuff.\n"
     ]
    },
    {
     "data": {
      "text/plain": "              dc       hd95\nc2_c    0.354993  38.060516\nc2_ca   0.352006  38.805965\nac_c    0.390981  38.837817\nac_ca   0.392087  38.371221\nacc_c   0.581392  32.219932\nacc_ca  0.584981  32.098377",
      "text/html": "<div>\n<style scoped>\n    .dataframe tbody tr th:only-of-type {\n        vertical-align: middle;\n    }\n\n    .dataframe tbody tr th {\n        vertical-align: top;\n    }\n\n    .dataframe thead th {\n        text-align: right;\n    }\n</style>\n<table border=\"1\" class=\"dataframe\">\n  <thead>\n    <tr style=\"text-align: right;\">\n      <th></th>\n      <th>dc</th>\n      <th>hd95</th>\n    </tr>\n  </thead>\n  <tbody>\n    <tr>\n      <th>c2_c</th>\n      <td>0.354993</td>\n      <td>38.060516</td>\n    </tr>\n    <tr>\n      <th>c2_ca</th>\n      <td>0.352006</td>\n      <td>38.805965</td>\n    </tr>\n    <tr>\n      <th>ac_c</th>\n      <td>0.390981</td>\n      <td>38.837817</td>\n    </tr>\n    <tr>\n      <th>ac_ca</th>\n      <td>0.392087</td>\n      <td>38.371221</td>\n    </tr>\n    <tr>\n      <th>acc_c</th>\n      <td>0.581392</td>\n      <td>32.219932</td>\n    </tr>\n    <tr>\n      <th>acc_ca</th>\n      <td>0.584981</td>\n      <td>32.098377</td>\n    </tr>\n  </tbody>\n</table>\n</div>"
     },
     "execution_count": 9,
     "metadata": {},
     "output_type": "execute_result"
    }
   ],
   "source": [
    "print('c2: 裁切, ac: 調整對比度, acc: 調整對比度+醫院資料')\n",
    "print('c: 醫院資料, ca: 醫院資料+調整對比度')\n",
    "pd.DataFrame(\n",
    "    [\n",
    "        eval_dfs['crop2']['corcta'].mean(),\n",
    "        eval_dfs['crop2']['corcta_adj_contract'].mean(),\n",
    "        eval_dfs['adj_contrast']['corcta'].mean(),\n",
    "        eval_dfs['adj_contrast']['corcta_adj_contract'].mean(),\n",
    "        eval_dfs['adj_contrast_corcta']['corcta'].mean(),\n",
    "        eval_dfs['adj_contrast_corcta']['corcta_adj_contract'].mean()\n",
    "    ]\n",
    "    ,index=[\n",
    "        'c2_c',\n",
    "        'c2_ca',\n",
    "        'ac_c',\n",
    "        'ac_ca',\n",
    "        'acc_c',\n",
    "        'acc_ca'\n",
    "    ]\n",
    ")"
   ],
   "metadata": {
    "collapsed": false,
    "pycharm": {
     "name": "#%%\n"
    }
   }
  },
  {
   "cell_type": "code",
   "execution_count": 10,
   "outputs": [
    {
     "data": {
      "text/plain": "                   pid        dc       hd95\n0  corcta_adj_contract  0.584981  32.098377",
      "text/html": "<div>\n<style scoped>\n    .dataframe tbody tr th:only-of-type {\n        vertical-align: middle;\n    }\n\n    .dataframe tbody tr th {\n        vertical-align: top;\n    }\n\n    .dataframe thead th {\n        text-align: right;\n    }\n</style>\n<table border=\"1\" class=\"dataframe\">\n  <thead>\n    <tr style=\"text-align: right;\">\n      <th></th>\n      <th>pid</th>\n      <th>dc</th>\n      <th>hd95</th>\n    </tr>\n  </thead>\n  <tbody>\n    <tr>\n      <th>0</th>\n      <td>corcta_adj_contract</td>\n      <td>0.584981</td>\n      <td>32.098377</td>\n    </tr>\n  </tbody>\n</table>\n</div>"
     },
     "execution_count": 10,
     "metadata": {},
     "output_type": "execute_result"
    }
   ],
   "source": [
    "eval_dfs['adj_contrast_corcta']['corcta_adj_contract']\n"
   ],
   "metadata": {
    "collapsed": false,
    "pycharm": {
     "name": "#%%\n"
    }
   }
  }
 ],
 "metadata": {
  "kernelspec": {
   "display_name": "Python 3",
   "language": "python",
   "name": "python3"
  },
  "language_info": {
   "codemirror_mode": {
    "name": "ipython",
    "version": 2
   },
   "file_extension": ".py",
   "mimetype": "text/x-python",
   "name": "python",
   "nbconvert_exporter": "python",
   "pygments_lexer": "ipython2",
   "version": "2.7.6"
  }
 },
 "nbformat": 4,
 "nbformat_minor": 0
}