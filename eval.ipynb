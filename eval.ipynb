{
 "cells": [
  {
   "cell_type": "code",
   "execution_count": 1,
   "metadata": {},
   "outputs": [],
   "source": [
    "import pandas as pd\n",
    "import os"
   ]
  },
  {
   "cell_type": "markdown",
   "source": [
    "## Utils"
   ],
   "metadata": {
    "collapsed": false,
    "pycharm": {
     "name": "#%% md\n"
    }
   }
  },
  {
   "cell_type": "code",
   "execution_count": 2,
   "outputs": [],
   "source": [
    "def get_data_df(data_dir, data_names, csv_file_names):\n",
    "    data_dfs = {}\n",
    "    for data_name in data_names:\n",
    "        data_dfs[data_name] = {}\n",
    "        for csv_file_name in csv_file_names:\n",
    "            csv_file_path = os.path.join(\n",
    "                data_dir,\n",
    "                data_name,\n",
    "                f'{csv_file_name}.csv'\n",
    "            )\n",
    "            data_dfs[data_name][csv_file_name] = pd.read_csv(csv_file_path)\n",
    "    return data_dfs"
   ],
   "metadata": {
    "collapsed": false,
    "pycharm": {
     "name": "#%%\n"
    }
   }
  },
  {
   "cell_type": "code",
   "execution_count": 3,
   "outputs": [],
   "source": [
    "def get_counts(df, data_names, csv_file_names, col_name):\n",
    "    counts = []\n",
    "    for data_name in data_names:\n",
    "        for csv_file_name in csv_file_names[:2]:\n",
    "            counts.append(len(df[data_name][csv_file_name][col_name]))\n",
    "    return counts\n",
    "\n",
    "\n",
    "def get_count_df(df, data_names, csv_file_names, idx_names, is_cnt_pid):\n",
    "    if is_cnt_pid:\n",
    "        col_name = 'pid'\n",
    "        col_names = ['no. pid']\n",
    "    else:\n",
    "        col_name = 'ImageId'\n",
    "        col_names = ['no. img']\n",
    "\n",
    "    return pd.DataFrame(\n",
    "        get_counts(df, data_names, csv_file_names, col_name=col_name),\n",
    "        index=idx_names,\n",
    "        columns=col_names\n",
    "    ).T"
   ],
   "metadata": {
    "collapsed": false,
    "pycharm": {
     "name": "#%%\n"
    }
   }
  },
  {
   "cell_type": "code",
   "execution_count": 4,
   "outputs": [],
   "source": [
    "def get_means(df, data_names, csv_file_names):\n",
    "    means = []\n",
    "    for data_name in data_names:\n",
    "        for csv_file_name in csv_file_names:\n",
    "            means.append(df[data_name][csv_file_name].mean())\n",
    "    return means\n",
    "\n",
    "\n",
    "def get_mean_df(df, data_names, csv_file_names, idx_names):\n",
    "    return pd.DataFrame(\n",
    "        get_means(df, data_names, csv_file_names),\n",
    "        index=idx_names,\n",
    "    ).T"
   ],
   "metadata": {
    "collapsed": false,
    "pycharm": {
     "name": "#%%\n"
    }
   }
  },
  {
   "cell_type": "markdown",
   "source": [
    "## Eval1"
   ],
   "metadata": {
    "collapsed": false,
    "pycharm": {
     "name": "#%% md\n"
    }
   }
  },
  {
   "cell_type": "code",
   "execution_count": 5,
   "outputs": [
    {
     "name": "stderr",
     "output_type": "stream",
     "text": [
      "D:\\home\\program\\miniconda3\\envs\\HeartSeg\\lib\\site-packages\\ipykernel_launcher.py:5: FutureWarning: Dropping of nuisance columns in DataFrame reductions (with 'numeric_only=None') is deprecated; in a future version this will raise TypeError.  Select only valid columns before calling the reduction.\n",
      "  \"\"\"\n"
     ]
    }
   ],
   "source": [
    "data_dir = 'data_csv'\n",
    "eval_dir = 'data_csv/eval'\n",
    "data_names = ['crop2', 'adj_contrast', 'adj_contrast_corcta']\n",
    "csv_file_names = ['tr', 'tt', 'corcta', 'corcta_adj_contract']\n",
    "tr_tt_idx_names = ['c2_tr', 'c2_tt', 'ac_tr', 'ac_tt', 'acc_tr', 'acc_tt']\n",
    "\n",
    "data_df = get_data_df(data_dir, data_names, csv_file_names[:2])\n",
    "eval_df = get_data_df(eval_dir, data_names, csv_file_names)\n",
    "cnt_img_df = get_count_df(data_df, data_names, csv_file_names, tr_tt_idx_names, is_cnt_pid=False)\n",
    "cnt_pid_df = get_count_df(eval_df, data_names, csv_file_names, tr_tt_idx_names, is_cnt_pid=True)\n",
    "tr_tt_df = get_mean_df(eval_df, data_names, csv_file_names[:2], tr_tt_idx_names)\n",
    "corcta_df = get_mean_df(eval_df, data_names, csv_file_names[2:], tr_tt_idx_names).T"
   ],
   "metadata": {
    "collapsed": false,
    "pycharm": {
     "name": "#%%\n"
    }
   }
  },
  {
   "cell_type": "code",
   "execution_count": 6,
   "metadata": {
    "pycharm": {
     "name": "#%%\n"
    }
   },
   "outputs": [
    {
     "name": "stdout",
     "output_type": "stream",
     "text": [
      "c2: 裁切, ac: 調整對比度, acc: 調整對比度+醫院資料\n",
      "tr: 訓練資料集, tt: 測試資料集\n"
     ]
    },
    {
     "data": {
      "text/plain": "              dc       hd95  no. img  no. pid\nc2_tr   0.937147   4.595943   2470.0     62.0\nc2_tt   0.830196  14.493962    358.0      7.0\nac_tr   0.944951   4.442906   2470.0     62.0\nac_tt   0.840820  12.433626    358.0      7.0\nacc_tr  0.943632   4.279438   2697.0     63.0\nacc_tt  0.831059  12.305764    358.0      7.0",
      "text/html": "<div>\n<style scoped>\n    .dataframe tbody tr th:only-of-type {\n        vertical-align: middle;\n    }\n\n    .dataframe tbody tr th {\n        vertical-align: top;\n    }\n\n    .dataframe thead th {\n        text-align: right;\n    }\n</style>\n<table border=\"1\" class=\"dataframe\">\n  <thead>\n    <tr style=\"text-align: right;\">\n      <th></th>\n      <th>dc</th>\n      <th>hd95</th>\n      <th>no. img</th>\n      <th>no. pid</th>\n    </tr>\n  </thead>\n  <tbody>\n    <tr>\n      <th>c2_tr</th>\n      <td>0.937147</td>\n      <td>4.595943</td>\n      <td>2470.0</td>\n      <td>62.0</td>\n    </tr>\n    <tr>\n      <th>c2_tt</th>\n      <td>0.830196</td>\n      <td>14.493962</td>\n      <td>358.0</td>\n      <td>7.0</td>\n    </tr>\n    <tr>\n      <th>ac_tr</th>\n      <td>0.944951</td>\n      <td>4.442906</td>\n      <td>2470.0</td>\n      <td>62.0</td>\n    </tr>\n    <tr>\n      <th>ac_tt</th>\n      <td>0.840820</td>\n      <td>12.433626</td>\n      <td>358.0</td>\n      <td>7.0</td>\n    </tr>\n    <tr>\n      <th>acc_tr</th>\n      <td>0.943632</td>\n      <td>4.279438</td>\n      <td>2697.0</td>\n      <td>63.0</td>\n    </tr>\n    <tr>\n      <th>acc_tt</th>\n      <td>0.831059</td>\n      <td>12.305764</td>\n      <td>358.0</td>\n      <td>7.0</td>\n    </tr>\n  </tbody>\n</table>\n</div>"
     },
     "execution_count": 6,
     "metadata": {},
     "output_type": "execute_result"
    }
   ],
   "source": [
    "print('c2: 裁切, ac: 調整對比度, acc: 調整對比度+醫院資料')\n",
    "print('tr: 訓練資料集, tt: 測試資料集')\n",
    "pd.concat([tr_tt_df, cnt_img_df,  cnt_pid_df]).T"
   ]
  },
  {
   "cell_type": "code",
   "execution_count": 7,
   "metadata": {},
   "outputs": [
    {
     "name": "stdout",
     "output_type": "stream",
     "text": [
      "c2: 裁切, ac: 調整對比度, acc: 調整對比度+醫院資料\n",
      "c: 醫院資料, ca: 醫院資料+調整對比度\n"
     ]
    },
    {
     "data": {
      "text/plain": "              dc       hd95\nc2_tr   0.439503  33.958421\nc2_tt   0.451882  33.617197\nac_tr   0.505809  30.655261\nac_tt   0.515323  28.934291\nacc_tr  0.885911   2.173923\nacc_tt  0.891567   1.663185",
      "text/html": "<div>\n<style scoped>\n    .dataframe tbody tr th:only-of-type {\n        vertical-align: middle;\n    }\n\n    .dataframe tbody tr th {\n        vertical-align: top;\n    }\n\n    .dataframe thead th {\n        text-align: right;\n    }\n</style>\n<table border=\"1\" class=\"dataframe\">\n  <thead>\n    <tr style=\"text-align: right;\">\n      <th></th>\n      <th>dc</th>\n      <th>hd95</th>\n    </tr>\n  </thead>\n  <tbody>\n    <tr>\n      <th>c2_tr</th>\n      <td>0.439503</td>\n      <td>33.958421</td>\n    </tr>\n    <tr>\n      <th>c2_tt</th>\n      <td>0.451882</td>\n      <td>33.617197</td>\n    </tr>\n    <tr>\n      <th>ac_tr</th>\n      <td>0.505809</td>\n      <td>30.655261</td>\n    </tr>\n    <tr>\n      <th>ac_tt</th>\n      <td>0.515323</td>\n      <td>28.934291</td>\n    </tr>\n    <tr>\n      <th>acc_tr</th>\n      <td>0.885911</td>\n      <td>2.173923</td>\n    </tr>\n    <tr>\n      <th>acc_tt</th>\n      <td>0.891567</td>\n      <td>1.663185</td>\n    </tr>\n  </tbody>\n</table>\n</div>"
     },
     "execution_count": 7,
     "metadata": {},
     "output_type": "execute_result"
    }
   ],
   "source": [
    "print('c2: 裁切, ac: 調整對比度, acc: 調整對比度+醫院資料')\n",
    "print('c: 醫院資料, ca: 醫院資料+調整對比度')\n",
    "corcta_df"
   ]
  },
  {
   "cell_type": "code",
   "execution_count": 8,
   "metadata": {
    "pycharm": {
     "name": "#%%\n"
    }
   },
   "outputs": [
    {
     "data": {
      "text/plain": "                   pid        dc      hd95\n0  corcta_adj_contract  0.891567  1.663185",
      "text/html": "<div>\n<style scoped>\n    .dataframe tbody tr th:only-of-type {\n        vertical-align: middle;\n    }\n\n    .dataframe tbody tr th {\n        vertical-align: top;\n    }\n\n    .dataframe thead th {\n        text-align: right;\n    }\n</style>\n<table border=\"1\" class=\"dataframe\">\n  <thead>\n    <tr style=\"text-align: right;\">\n      <th></th>\n      <th>pid</th>\n      <th>dc</th>\n      <th>hd95</th>\n    </tr>\n  </thead>\n  <tbody>\n    <tr>\n      <th>0</th>\n      <td>corcta_adj_contract</td>\n      <td>0.891567</td>\n      <td>1.663185</td>\n    </tr>\n  </tbody>\n</table>\n</div>"
     },
     "execution_count": 8,
     "metadata": {},
     "output_type": "execute_result"
    }
   ],
   "source": [
    "eval_df['adj_contrast_corcta']['corcta_adj_contract']"
   ]
  },
  {
   "cell_type": "markdown",
   "source": [
    "## Eval2"
   ],
   "metadata": {
    "collapsed": false,
    "pycharm": {
     "name": "#%% md\n"
    }
   }
  },
  {
   "cell_type": "code",
   "execution_count": 9,
   "outputs": [
    {
     "name": "stderr",
     "output_type": "stream",
     "text": [
      "D:\\home\\program\\miniconda3\\envs\\HeartSeg\\lib\\site-packages\\ipykernel_launcher.py:5: FutureWarning: Dropping of nuisance columns in DataFrame reductions (with 'numeric_only=None') is deprecated; in a future version this will raise TypeError.  Select only valid columns before calling the reduction.\n",
      "  \"\"\"\n"
     ]
    }
   ],
   "source": [
    "data_dir = 'data_csv'\n",
    "eval_dir = 'data_csv/eval2'\n",
    "data_names = ['crop2', 'adj_contrast', 'adj_contrast_corcta']\n",
    "csv_file_names = ['tr', 'tt', 'corcta', 'corcta_adj_contract']\n",
    "tr_tt_idx_names = ['c2_tr', 'c2_tt', 'ac_tr', 'ac_tt', 'acc_tr', 'acc_tt']\n",
    "\n",
    "data_df = get_data_df(data_dir, data_names, csv_file_names[:2])\n",
    "eval_df = get_data_df(eval_dir, data_names, csv_file_names)\n",
    "cnt_img_df = get_count_df(data_df, data_names, csv_file_names, tr_tt_idx_names, is_cnt_pid=False)\n",
    "cnt_pid_df = get_count_df(eval_df, data_names, csv_file_names, tr_tt_idx_names, is_cnt_pid=True)\n",
    "tr_tt_df = get_mean_df(eval_df, data_names, csv_file_names[:2], tr_tt_idx_names)\n",
    "corcta_df = get_mean_df(eval_df, data_names, csv_file_names[2:], tr_tt_idx_names).T"
   ],
   "metadata": {
    "collapsed": false,
    "pycharm": {
     "name": "#%%\n"
    }
   }
  },
  {
   "cell_type": "code",
   "execution_count": 10,
   "outputs": [
    {
     "name": "stdout",
     "output_type": "stream",
     "text": [
      "c2: 裁切, ac: 調整對比度, acc: 調整對比度+醫院資料\n",
      "tr: 訓練資料集, tt: 測試資料集\n"
     ]
    },
    {
     "data": {
      "text/plain": "              dc       hd95  no. img  no. pid\nc2_tr   0.937147   4.595943   2470.0     62.0\nc2_tt   0.830196  14.493962    358.0      7.0\nac_tr   0.944951   4.442906   2470.0     62.0\nac_tt   0.840820  12.433626    358.0      7.0\nacc_tr  0.943632   4.279438   2697.0     63.0\nacc_tt  0.831059  12.305764    358.0      7.0",
      "text/html": "<div>\n<style scoped>\n    .dataframe tbody tr th:only-of-type {\n        vertical-align: middle;\n    }\n\n    .dataframe tbody tr th {\n        vertical-align: top;\n    }\n\n    .dataframe thead th {\n        text-align: right;\n    }\n</style>\n<table border=\"1\" class=\"dataframe\">\n  <thead>\n    <tr style=\"text-align: right;\">\n      <th></th>\n      <th>dc</th>\n      <th>hd95</th>\n      <th>no. img</th>\n      <th>no. pid</th>\n    </tr>\n  </thead>\n  <tbody>\n    <tr>\n      <th>c2_tr</th>\n      <td>0.937147</td>\n      <td>4.595943</td>\n      <td>2470.0</td>\n      <td>62.0</td>\n    </tr>\n    <tr>\n      <th>c2_tt</th>\n      <td>0.830196</td>\n      <td>14.493962</td>\n      <td>358.0</td>\n      <td>7.0</td>\n    </tr>\n    <tr>\n      <th>ac_tr</th>\n      <td>0.944951</td>\n      <td>4.442906</td>\n      <td>2470.0</td>\n      <td>62.0</td>\n    </tr>\n    <tr>\n      <th>ac_tt</th>\n      <td>0.840820</td>\n      <td>12.433626</td>\n      <td>358.0</td>\n      <td>7.0</td>\n    </tr>\n    <tr>\n      <th>acc_tr</th>\n      <td>0.943632</td>\n      <td>4.279438</td>\n      <td>2697.0</td>\n      <td>63.0</td>\n    </tr>\n    <tr>\n      <th>acc_tt</th>\n      <td>0.831059</td>\n      <td>12.305764</td>\n      <td>358.0</td>\n      <td>7.0</td>\n    </tr>\n  </tbody>\n</table>\n</div>"
     },
     "execution_count": 10,
     "metadata": {},
     "output_type": "execute_result"
    }
   ],
   "source": [
    "print('c2: 裁切, ac: 調整對比度, acc: 調整對比度+醫院資料')\n",
    "print('tr: 訓練資料集, tt: 測試資料集')\n",
    "pd.concat([tr_tt_df, cnt_img_df,  cnt_pid_df]).T"
   ],
   "metadata": {
    "collapsed": false,
    "pycharm": {
     "name": "#%%\n"
    }
   }
  },
  {
   "cell_type": "code",
   "execution_count": 11,
   "outputs": [
    {
     "name": "stdout",
     "output_type": "stream",
     "text": [
      "c2: 裁切, ac: 調整對比度, acc: 調整對比度+醫院資料\n",
      "c: 醫院資料, ca: 醫院資料+調整對比度\n"
     ]
    },
    {
     "data": {
      "text/plain": "              dc       hd95\nc2_tr   0.413286  33.958421\nc2_tt   0.414429  33.617197\nac_tr   0.460865  30.655261\nac_tt   0.474125  28.934291\nacc_tr  0.852204   2.173923\nacc_tt  0.857859   1.663185",
      "text/html": "<div>\n<style scoped>\n    .dataframe tbody tr th:only-of-type {\n        vertical-align: middle;\n    }\n\n    .dataframe tbody tr th {\n        vertical-align: top;\n    }\n\n    .dataframe thead th {\n        text-align: right;\n    }\n</style>\n<table border=\"1\" class=\"dataframe\">\n  <thead>\n    <tr style=\"text-align: right;\">\n      <th></th>\n      <th>dc</th>\n      <th>hd95</th>\n    </tr>\n  </thead>\n  <tbody>\n    <tr>\n      <th>c2_tr</th>\n      <td>0.413286</td>\n      <td>33.958421</td>\n    </tr>\n    <tr>\n      <th>c2_tt</th>\n      <td>0.414429</td>\n      <td>33.617197</td>\n    </tr>\n    <tr>\n      <th>ac_tr</th>\n      <td>0.460865</td>\n      <td>30.655261</td>\n    </tr>\n    <tr>\n      <th>ac_tt</th>\n      <td>0.474125</td>\n      <td>28.934291</td>\n    </tr>\n    <tr>\n      <th>acc_tr</th>\n      <td>0.852204</td>\n      <td>2.173923</td>\n    </tr>\n    <tr>\n      <th>acc_tt</th>\n      <td>0.857859</td>\n      <td>1.663185</td>\n    </tr>\n  </tbody>\n</table>\n</div>"
     },
     "execution_count": 11,
     "metadata": {},
     "output_type": "execute_result"
    }
   ],
   "source": [
    "print('c2: 裁切, ac: 調整對比度, acc: 調整對比度+醫院資料')\n",
    "print('c: 醫院資料, ca: 醫院資料+調整對比度')\n",
    "corcta_df"
   ],
   "metadata": {
    "collapsed": false,
    "pycharm": {
     "name": "#%%\n"
    }
   }
  },
  {
   "cell_type": "code",
   "execution_count": 12,
   "outputs": [
    {
     "data": {
      "text/plain": "                   pid        dc      hd95\n0  corcta_adj_contract  0.857859  1.663185",
      "text/html": "<div>\n<style scoped>\n    .dataframe tbody tr th:only-of-type {\n        vertical-align: middle;\n    }\n\n    .dataframe tbody tr th {\n        vertical-align: top;\n    }\n\n    .dataframe thead th {\n        text-align: right;\n    }\n</style>\n<table border=\"1\" class=\"dataframe\">\n  <thead>\n    <tr style=\"text-align: right;\">\n      <th></th>\n      <th>pid</th>\n      <th>dc</th>\n      <th>hd95</th>\n    </tr>\n  </thead>\n  <tbody>\n    <tr>\n      <th>0</th>\n      <td>corcta_adj_contract</td>\n      <td>0.857859</td>\n      <td>1.663185</td>\n    </tr>\n  </tbody>\n</table>\n</div>"
     },
     "execution_count": 12,
     "metadata": {},
     "output_type": "execute_result"
    }
   ],
   "source": [
    "eval_df['adj_contrast_corcta']['corcta_adj_contract']"
   ],
   "metadata": {
    "collapsed": false,
    "pycharm": {
     "name": "#%%\n"
    }
   }
  }
 ],
 "metadata": {
  "kernelspec": {
   "display_name": "Python 3 (ipykernel)",
   "language": "python",
   "name": "python3"
  },
  "language_info": {
   "codemirror_mode": {
    "name": "ipython",
    "version": 3
   },
   "file_extension": ".py",
   "mimetype": "text/x-python",
   "name": "python",
   "nbconvert_exporter": "python",
   "pygments_lexer": "ipython3",
   "version": "3.7.11"
  },
  "toc": {
   "base_numbering": 1,
   "nav_menu": {},
   "number_sections": true,
   "sideBar": true,
   "skip_h1_title": false,
   "title_cell": "Table of Contents",
   "title_sidebar": "Contents",
   "toc_cell": false,
   "toc_position": {},
   "toc_section_display": true,
   "toc_window_display": false
  }
 },
 "nbformat": 4,
 "nbformat_minor": 1
}